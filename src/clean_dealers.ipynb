{
 "cells": [
  {
   "cell_type": "code",
   "execution_count": 4,
   "metadata": {
    "collapsed": false
   },
   "outputs": [],
   "source": [
    "import pandas as pd\n",
    "import re\n",
    "import os\n",
    "\n",
    "def find_between_r(s, first, last):\n",
    "    try:\n",
    "        start = s.rindex(first) + len(first)\n",
    "        end = s.rindex(last, start)\n",
    "        return s[start:end]\n",
    "    except ValueError:\n",
    "        return \"\"\n",
    "\n",
    "data  = pd.read_csv('/home/azureuser/Aerospike/data/social/Dealers_V1.csv')\n",
    "\n",
    "x1 = pd.Series()\n",
    "\n",
    "for index, row in data.iterrows():\n",
    "    model = find_between_r(row['URL'], \"zip=\", \"\")\n",
    "    x1 = x1.set_value(index, model)\n",
    "\n",
    "data.loc[:,'zip_from'] = x1\n",
    "del data['URL']\n",
    "\n",
    "#os.remove('/home/azureuser/Aerospike/data/social/Customer-review-CSV_V1-edited.csv')\n",
    "data.to_csv('/home/azureuser/Aerospike/data/social/Dealers_V1-edited.csv')"
   ]
  },
  {
   "cell_type": "code",
   "execution_count": null,
   "metadata": {
    "collapsed": true
   },
   "outputs": [],
   "source": []
  }
 ],
 "metadata": {
  "kernelspec": {
   "display_name": "Python 2",
   "language": "python",
   "name": "python2"
  },
  "language_info": {
   "codemirror_mode": {
    "name": "ipython",
    "version": 2
   },
   "file_extension": ".py",
   "mimetype": "text/x-python",
   "name": "python",
   "nbconvert_exporter": "python",
   "pygments_lexer": "ipython2",
   "version": "2.7.13"
  }
 },
 "nbformat": 4,
 "nbformat_minor": 2
}
