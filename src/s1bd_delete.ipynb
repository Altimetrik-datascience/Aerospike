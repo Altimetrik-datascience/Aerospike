{
 "cells": [
  {
   "cell_type": "code",
   "execution_count": 3,
   "metadata": {
    "collapsed": false
   },
   "outputs": [
    {
     "name": "stdout",
     "output_type": "stream",
     "text": [
      "\n",
      "Delete Customer data from Aerospike\n",
      "\n",
      "\n"
     ]
    }
   ],
   "source": [
    "#!/usr/bin/python\n",
    "# -*- coding: utf-8 -*-\n",
    "\n",
    "\"\"\"\n",
    "Delete Customer data from Aerospike\n",
    "\n",
    "\"\"\"\n",
    "\n",
    "# Import libraries\n",
    "\n",
    "from __future__ import absolute_import\n",
    "from __future__ import division\n",
    "from __future__ import print_function\n",
    "\n",
    "import pandas as pd\n",
    "import aerospike\n",
    "from aerospike import predicates as p\n",
    "import json\n",
    "\n",
    "print(__doc__)\n",
    "\n",
    "def remove_data():\n",
    "\n",
    "    # Read input dataset using pandas\n",
    "    data = pd.read_csv(\"/home/azureuser/aerospike/data/customer/customer details_sample_edited.csv\")\n",
    "    \n",
    "    key = data['cust_id']\n",
    "    \n",
    "    config = {\n",
    "      'hosts': [ ('127.0.0.1', 3000) ]\n",
    "    }\n",
    "\n",
    "    # Create a client and connect it to the cluster\n",
    "    try:\n",
    "        client = aerospike.client(config).connect()\n",
    "    except:\n",
    "        import sys\n",
    "        print(\"failed to connect to the cluster with\", config['hosts'])\n",
    "        sys.exit(1)\n",
    "    \n",
    "    # Count a record for verification before delete\n",
    "    #query = client.query('test', 'customer')\n",
    "    #query.select('frequency' )\n",
    "    #query.apply('countNumOfBinsWithValues', 'count')\n",
    "\n",
    "    # Callback function prints the records as they are read\n",
    "    #def print_result(value):\n",
    "    #    print(value)\n",
    "\n",
    "    # Execute the query and call print_result for each result\n",
    "    #query.foreach(print_result)\n",
    "        \n",
    "    # Records are addressable via a tuple of (namespace, set, key)\n",
    "    for pk in key:\n",
    "        string = \"('dev', 's1bd', \"\n",
    "        string +=`pk`\n",
    "        string = string + \")\"\n",
    "        \n",
    "        from ast import literal_eval as make_tuple\n",
    "        string = make_tuple(string)\n",
    "        \n",
    "        try:\n",
    "            client = aerospike.client(config).connect()\n",
    "            # Remove a record\n",
    "            client.remove(string)\n",
    "        except Exception as e:\n",
    "            import sys\n",
    "            print(\"error: {0}\".format(e), file=sys.stderr)\n",
    "\n",
    "        # Count a record for verification after delete\n",
    "    \n",
    "        # Close the connection to the Aerospike cluster\n",
    "        client.close()\n",
    "\n",
    "if __name__ == '__main__':\n",
    "    remove_data()"
   ]
  },
  {
   "cell_type": "code",
   "execution_count": null,
   "metadata": {
    "collapsed": true
   },
   "outputs": [],
   "source": []
  }
 ],
 "metadata": {
  "kernelspec": {
   "display_name": "Python 2",
   "language": "python",
   "name": "python2"
  },
  "language_info": {
   "codemirror_mode": {
    "name": "ipython",
    "version": 2
   },
   "file_extension": ".py",
   "mimetype": "text/x-python",
   "name": "python",
   "nbconvert_exporter": "python",
   "pygments_lexer": "ipython2",
   "version": "2.7.13"
  }
 },
 "nbformat": 4,
 "nbformat_minor": 2
}
